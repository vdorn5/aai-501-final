{
 "cells": [
  {
   "cell_type": "markdown",
   "metadata": {},
   "source": [
    "# Extracting the Dataset"
   ]
  },
  {
   "cell_type": "code",
   "execution_count": 76,
   "metadata": {},
   "outputs": [],
   "source": [
    "from datasets import load_dataset\n",
    "import pandas as pd\n",
    "import matplotlib.pyplot as plt"
   ]
  },
  {
   "cell_type": "code",
   "execution_count": 77,
   "metadata": {},
   "outputs": [],
   "source": [
    "dataset_path = \"Jzuluaga/uwb_atcc\"\n",
    "splits = [10,20,30,40,50,60,70,80,90,100]\n",
    "\n",
    "# set i to the value you want to use then run notebook and gather results\n",
    "# values 0 through 9 corresponding to the index of splits\n",
    "i = 0\n"
   ]
  },
  {
   "cell_type": "code",
   "execution_count": null,
   "metadata": {},
   "outputs": [],
   "source": [
    "def extract(path, split_value):\n",
    "    # load in huggingface dataset\n",
    "    dataset = load_dataset(dataset_path, split=f\"train[:{split_value}%]\")\n",
    "    \n",
    "    # save out dataset (not sure if we want to save out the data)\n",
    "    #if (split_value == 10):\n",
    "    #    dataset.to_csv(\"/workspaces/aai-501-final/data/training_data10.csv\")\n",
    "    \n",
    "    # convert dataset into pandas DataFrame\n",
    "    data = dataset.to_pandas()\n",
    "    \n",
    "    # data should already be cleaned so this is a sanity check\n",
    "    len1 = len(data)\n",
    "    data = data.dropna()\n",
    "    len2 = len(data)\n",
    "    if (len1 != len2):\n",
    "        print(\"WARNING - dataset had missing values\")\n",
    "    elif (len2 != data[\"id\"].nunique()):\n",
    "        print(\"WARNING - dataset has repeating id values\")\n",
    "    \n",
    "    print(data.describe())\n",
    "    return data"
   ]
  },
  {
   "cell_type": "code",
   "execution_count": 79,
   "metadata": {},
   "outputs": [],
   "source": [
    "def duration_hist(df, name=\"10\", save_path=\"../data/outputs/\"):\n",
    "\n",
    "    file_name = f\"{save_path}duration_hist{name}.png\"\n",
    "\n",
    "    # histogram of duration\n",
    "    df['duration'].hist(bins=30)\n",
    "\n",
    "    plt.xlabel(\"Duration of Audio Clip (Seconds)\")\n",
    "    plt.ylabel(\"Frequency (# of occurrences)\")\n",
    "    plt.title(f\"Distribution of Audio Durations - {name}% of Training data\")\n",
    "\n",
    "    plt.savefig(file_name)"
   ]
  },
  {
   "cell_type": "code",
   "execution_count": null,
   "metadata": {},
   "outputs": [
    {
     "data": {
      "application/vnd.jupyter.widget-view+json": {
       "model_id": "0af26f5093f54d43b7b2709251e24b5c",
       "version_major": 2,
       "version_minor": 0
      },
      "text/plain": [
       "Creating CSV from Arrow format:   0%|          | 0/2 [00:00<?, ?ba/s]"
      ]
     },
     "metadata": {},
     "output_type": "display_data"
    }
   ],
   "source": [
    "data = extract(dataset_path, splits[i])\n",
    "duration_hist(data, str(splits[i]))"
   ]
  },
  {
   "cell_type": "code",
   "execution_count": null,
   "metadata": {},
   "outputs": [
    {
     "name": "stdout",
     "output_type": "stream",
     "text": [
      "Total duration (30% of Train): \n",
      "hrs:mins:secs= 03:13:58\n"
     ]
    }
   ],
   "source": [
    "# get total amount of data (add the durations)\n",
    "sum = data[\"duration\"].sum()\n",
    "\n",
    "hours, r = divmod(sum, 3600)\n",
    "mins, secs = divmod(r, 60)\n",
    "\n",
    "print(f\"Total duration ({splits[i]}% of Train): \\nhrs:mins:secs= {int(hours):02}:{int(mins):02}:{int(secs):02}\")"
   ]
  }
 ],
 "metadata": {
  "kernelspec": {
   "display_name": "Python 3",
   "language": "python",
   "name": "python3"
  },
  "language_info": {
   "codemirror_mode": {
    "name": "ipython",
    "version": 3
   },
   "file_extension": ".py",
   "mimetype": "text/x-python",
   "name": "python",
   "nbconvert_exporter": "python",
   "pygments_lexer": "ipython3",
   "version": "3.9.20"
  }
 },
 "nbformat": 4,
 "nbformat_minor": 2
}
